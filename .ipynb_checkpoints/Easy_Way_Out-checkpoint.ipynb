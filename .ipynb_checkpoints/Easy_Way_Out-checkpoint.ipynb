{
 "cells": [
  {
   "cell_type": "markdown",
   "id": "d32abba6",
   "metadata": {},
   "source": [
    "### Import needed libraries"
   ]
  },
  {
   "cell_type": "code",
   "execution_count": 1,
   "id": "c6206cff",
   "metadata": {},
   "outputs": [],
   "source": [
    "from scipy.io.harwell_boeing import hb_read, hb_write\n",
    "from scipy.sparse import csr_matrix, eye"
   ]
  },
  {
   "cell_type": "code",
   "execution_count": 2,
   "id": "db58836c",
   "metadata": {},
   "outputs": [
    {
     "name": "stdout",
     "output_type": "stream",
     "text": [
      "  (0, 0)\t1.0\n",
      "  (1, 1)\t1.0\n",
      "  (2, 2)\t1.0\n"
     ]
    }
   ],
   "source": [
    "data = csr_matrix(eye(3))  # create a sparse matrix\n",
    "hb_write(\"data.hb\", data)  # write a hb file\n",
    "print(hb_read(\"data.hb\"))  # read a hb file"
   ]
  },
  {
   "cell_type": "code",
   "execution_count": null,
   "id": "9c1bb1ab",
   "metadata": {},
   "outputs": [],
   "source": []
  }
 ],
 "metadata": {
  "kernelspec": {
   "display_name": "Python 3",
   "language": "python",
   "name": "python3"
  },
  "language_info": {
   "codemirror_mode": {
    "name": "ipython",
    "version": 3
   },
   "file_extension": ".py",
   "mimetype": "text/x-python",
   "name": "python",
   "nbconvert_exporter": "python",
   "pygments_lexer": "ipython3",
   "version": "3.7.10"
  }
 },
 "nbformat": 4,
 "nbformat_minor": 5
}
